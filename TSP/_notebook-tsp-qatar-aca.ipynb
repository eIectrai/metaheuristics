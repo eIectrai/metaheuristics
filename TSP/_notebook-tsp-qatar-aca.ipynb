{
 "cells": [
  {
   "cell_type": "code",
   "execution_count": 1,
   "metadata": {},
   "outputs": [],
   "source": [
    "from scipy.spatial import distance\n",
    "from time import time\n",
    "import numpy as np\n",
    "import matplotlib.pyplot as plt\n",
    "import tsplib95"
   ]
  },
  {
   "cell_type": "code",
   "execution_count": 2,
   "metadata": {},
   "outputs": [],
   "source": [
    "class ACA:   # imported from Scikit-opt\n",
    "    def __init__(self, func, n_dim, size_pop, max_iter, distance_matrix, alpha, beta, rho):\n",
    "        self.func = func\n",
    "        self.n_dim = n_dim\n",
    "        self.size_pop = size_pop\n",
    "        self.max_iter = max_iter\n",
    "        self.alpha = alpha\n",
    "        self.beta = beta\n",
    "        self.rho = rho\n",
    "\n",
    "        self.prob_matrix_distance = 1 / (distance_matrix + 1e-10 * np.eye(n_dim, n_dim))\n",
    "\n",
    "        self.Tau = np.ones((n_dim, n_dim))\n",
    "        self.Table = np.zeros((size_pop, n_dim)).astype(np.int)\n",
    "        self.y = None\n",
    "        self.generation_best_X, self.generation_best_Y = [], []\n",
    "        self.x_best_history, self.y_best_history = self.generation_best_X, self.generation_best_Y \n",
    "        self.best_x, self.best_y = None, None\n",
    "\n",
    "    def run(self, max_iter=None):\n",
    "        self.max_iter = max_iter or self.max_iter\n",
    "        for i in range(self.max_iter):\n",
    "            prob_matrix = (self.Tau ** self.alpha) * (self.prob_matrix_distance) ** self.beta\n",
    "            for j in range(self.size_pop):\n",
    "                self.Table[j, 0] = 0\n",
    "                for k in range(self.n_dim - 1):\n",
    "                    taboo_set = set(self.Table[j, :k + 1])\n",
    "                    allow_list = list(set(range(self.n_dim)) - taboo_set)\n",
    "                    prob = prob_matrix[self.Table[j, k], allow_list]\n",
    "                    prob = prob / prob.sum()\n",
    "                    next_point = np.random.choice(allow_list, size=1, p=prob)[0]\n",
    "                    self.Table[j, k + 1] = next_point\n",
    "\n",
    "            y = np.array([self.func(i) for i in self.Table])\n",
    "            \n",
    "            index_best = y.argmin()\n",
    "            x_best, y_best = self.Table[index_best, :].copy(), y[index_best].copy()\n",
    "            self.generation_best_X.append(x_best)\n",
    "            self.generation_best_Y.append(y_best)\n",
    "\n",
    "            delta_tau = np.zeros((self.n_dim, self.n_dim))\n",
    "            for j in range(self.size_pop):\n",
    "                for k in range(self.n_dim - 1):\n",
    "                    n1, n2 = self.Table[j, k], self.Table[j, k + 1]\n",
    "                    delta_tau[n1, n2] += 1 / y[j]\n",
    "                n1, n2 = self.Table[j, self.n_dim - 1], self.Table[j, 0]\n",
    "                delta_tau[n1, n2] += 1 / y[j]\n",
    "\n",
    "            self.Tau = (1 - self.rho) * self.Tau + delta_tau\n",
    "\n",
    "        best_generation = np.array(self.generation_best_Y).argmin()\n",
    "        self.best_x = self.generation_best_X[best_generation]\n",
    "        self.best_y = self.generation_best_Y[best_generation]\n",
    "        return self.best_x, self.best_y\n",
    "\n",
    "    fit = run"
   ]
  },
  {
   "cell_type": "code",
   "execution_count": 3,
   "metadata": {},
   "outputs": [],
   "source": [
    "load = tsplib95.load('./tsp-qa194.tsp')"
   ]
  },
  {
   "cell_type": "code",
   "execution_count": 4,
   "metadata": {
    "scrolled": false
   },
   "outputs": [
    {
     "name": "stdout",
     "output_type": "stream",
     "text": [
      "\n",
      "QATAR dimension 194 \n",
      "\n",
      "Ant Colony Algorithm parameters: \n",
      "\n",
      "- Population size = 10 ind. \n",
      "- Alpha = 0.5 \n",
      "- Beta = 5 \n",
      "- Rho = 0.5 \n",
      "\n",
      "Stopping criterion: 200 iterations \n",
      "\n",
      "Computation time = 35.58416032791138 sec. \n",
      "\n",
      "Convergence curve:\n"
     ]
    },
    {
     "data": {
      "image/png": "[encoded data removed]",
      "text/plain": [
       "<Figure size 432x288 with 2 Axes>"
      ]
     },
     "metadata": {
      "needs_background": "light"
     },
     "output_type": "display_data"
    },
    {
     "name": "stdout",
     "output_type": "stream",
     "text": [
      "Minimal distance 10723.744356894627 [ fitness = 1371.7443568946273 ] is reached for path:\n",
      "\n",
      " [  0   5   7  15  12  22  24  13  10  16  23  25  20  17  27  28  21  26\n",
      "  36  38  33  39  42  40  45  47  51  52  53  54  48  41  43  37  30  31\n",
      "  29  34  49  55  57  46  50  60  66  65  72  67  63  56  44  32  59  68\n",
      "  73  77  74  71  75  79  86 101 102  90  92  95  94  96  91  87  82  78\n",
      "  80  76  69  83  99 109 111 114 115 116 120 119 127 123 122 132 134 128\n",
      " 135 130 142 147 154 150 146 151 140 143 149 152 156 153 138 137 145 148\n",
      " 144 139 136 141 155 160 162 163 168 175 181 171 178 173 172 174 183 180\n",
      " 176 177 179 169 170 165 159 161 157 158 164 167 166 184 192 187 188 190\n",
      " 191 189 186 182 185 193 129 133 131 126 124 125 113 112 108 118 121 117\n",
      " 105 104 106 107  14  18  11   9   8   4   2   1   3   6  70  81  88  89\n",
      "  93  98 100 103 110  97  85  84  64  62  35  58  61  19]\n"
     ]
    }
   ],
   "source": [
    "# input data\n",
    "known_optimum = 9352\n",
    "coordinates = np.array([load.node_coords[point] for point in list(load.get_nodes())])\n",
    "dimension = coordinates.shape[0]\n",
    "distance_matrix = distance.cdist(coordinates, coordinates, metric='euclidean')\n",
    "\n",
    "# objective function\n",
    "def total_distance(select):\n",
    "    return np.sum([distance_matrix[select[i % dimension], select[(i + 1) % dimension]] for i in range(dimension)])\n",
    "\n",
    "# search parameters\n",
    "population = 10 # 10\n",
    "alpha = 0.5 # 1\n",
    "beta = 5 # 2\n",
    "rho = 0.5 # 0.1\n",
    "iterations = 200\n",
    "\n",
    "# run search\n",
    "t1 = time()\n",
    "aca = ACA(func=total_distance, n_dim=dimension, size_pop=population, max_iter=iterations, distance_matrix=distance_matrix, alpha=alpha, beta=beta, rho=rho)\n",
    "best_path, best_distance = aca.run()\n",
    "t2 = time()\n",
    "\n",
    "# display results\n",
    "print('\\nQATAR dimension', dimension, '\\n\\nAnt Colony Algorithm parameters:', '\\n\\n- Population size =', population, 'ind.', '\\n- Alpha =', alpha, '\\n- Beta =', beta, '\\n- Rho =', rho,  '\\n\\nStopping criterion:', iterations, 'iterations', '\\n\\nComputation time =', t2-t1, 'sec.', '\\n\\nConvergence curve:')\n",
    "fig, ax = plt.subplots(1, 2)\n",
    "ax[0].axhline(y=known_optimum, color='red')\n",
    "ax[0].set_ylabel('fitness')\n",
    "ax[0].set_xlabel('time / iterations')\n",
    "ax[0].set_xticklabels([])\n",
    "ax[0].plot(aca.generation_best_Y)\n",
    "best_path_ = np.concatenate([best_path, [best_path[0]]])\n",
    "best_coordinates = coordinates[best_path_, :]\n",
    "ax[1].set_xticklabels([])\n",
    "ax[1].set_yticklabels([])\n",
    "ax[1].set_xlabel('best path')\n",
    "ax[1].plot(best_coordinates[:, 0], best_coordinates[:, 1], 'o-r')\n",
    "plt.show()\n",
    "print('Minimal distance', best_distance, '[ fitness =', best_distance-known_optimum,'] is reached for path:\\n\\n', best_path)"
   ]
  }
 ],
 "metadata": {
  "kernelspec": {
   "display_name": "Python 3",
   "language": "python",
   "name": "python3"
  },
  "language_info": {
   "codemirror_mode": {
    "name": "ipython",
    "version": 3
   },
   "file_extension": ".py",
   "mimetype": "text/x-python",
   "name": "python",
   "nbconvert_exporter": "python",
   "pygments_lexer": "ipython3",
   "version": "3.8.5"
  }
 },
 "nbformat": 4,
 "nbformat_minor": 1
}
